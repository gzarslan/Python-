{
 
  {
   "cell_type": "code",
   "execution_count": 10,
   "id": "e05d7f4d",
   "metadata": {},
   "outputs": [],
   "source": [
    "import findspark\n"
   ]
  },
  {
   "cell_type": "code",
   "execution_count": 13,
   "id": "45aa3d34",
   "metadata": {},
   "outputs": [],
   "source": [
    "findspark.init('C:\\spark\\spark-3.1.2-bin-hadoop3.2')\n"
   ]
  },
  {
   "cell_type": "code",
   "execution_count": 16,
   "id": "b83bbf2f",
   "metadata": {},
   "outputs": [],
   "source": [
    "from pyspark.sql import SparkSession\n"
   ]
  },
  {
   "cell_type": "code",
   "execution_count": 19,
   "id": "6bcd9665",
   "metadata": {},
   "outputs": [],
   "source": [
    "dataSpark = SparkSession.builder.getOrCreate()"
   ]
  },
  {
   "cell_type": "code",
   "execution_count": 23,
   "id": "3b594b72",
   "metadata": {},
   "outputs": [],
   "source": [
    "data1 = dataSpark.read.format('csv').option('header','true').load('Video_Games_Sales_as_at_22_Dec_2016.csv')"
   ]
  },
  {
   "cell_type": "code",
   "execution_count": 25,
   "id": "3eb07d23",
   "metadata": {},
   "outputs": [],
   "source": [
    "data = data1.groupby('platform').count().orderBy('count',ascending=False)"
   ]
  },
  {
   "cell_type": "code",
   "execution_count": 26,
   "id": "de3f3f93",
   "metadata": {},
   "outputs": [
    {
     "data": {
      "text/plain": [
       "[Row(platform='PS2', count=2161),\n",
       " Row(platform='DS', count=2152),\n",
       " Row(platform='PS3', count=1331),\n",
       " Row(platform='Wii', count=1320),\n",
       " Row(platform='X360', count=1262),\n",
       " Row(platform='PSP', count=1209),\n",
       " Row(platform='PS', count=1197),\n",
       " Row(platform='PC', count=974),\n",
       " Row(platform='XB', count=824),\n",
       " Row(platform='GBA', count=822),\n",
       " Row(platform='GC', count=556),\n",
       " Row(platform='3DS', count=520),\n",
       " Row(platform='PSV', count=432),\n",
       " Row(platform='PS4', count=393),\n",
       " Row(platform='N64', count=319),\n",
       " Row(platform='XOne', count=247),\n",
       " Row(platform='SNES', count=239),\n",
       " Row(platform='SAT', count=173),\n",
       " Row(platform='WiiU', count=147),\n",
       " Row(platform='2600', count=133),\n",
       " Row(platform='NES', count=98),\n",
       " Row(platform='GB', count=98),\n",
       " Row(platform='DC', count=52),\n",
       " Row(platform='GEN', count=29),\n",
       " Row(platform='NG', count=12),\n",
       " Row(platform='SCD', count=6),\n",
       " Row(platform='WS', count=6),\n",
       " Row(platform='3DO', count=3),\n",
       " Row(platform='TG16', count=2),\n",
       " Row(platform='PCFX', count=1),\n",
       " Row(platform='GG', count=1)]"
      ]
     },
     "execution_count": 26,
     "metadata": {},
     "output_type": "execute_result"
    }
   ],
   "source": [
    "data.collect()"
   ]
  },
  {
   "cell_type": "code",
   "execution_count": 1,
   "id": "e13c9dbf",
   "metadata": {},
   "outputs": [
    {
     "name": "stdout",
     "output_type": "stream",
     "text": [
      "hello jupiter\n"
     ]
    }
   ],
   "source": [
    "print(\"hello jupiter\")"
   ]
  },
  {
   "cell_type": "code",
   "execution_count": 6,
   "id": "b7aff086",
   "metadata": {},
   "outputs": [
    {
     "name": "stdout",
     "output_type": "stream",
     "text": [
      "h\n",
      "e\n",
      "l\n",
      "l\n",
      "o\n",
      " \n",
      ",\n",
      "j\n",
      "u\n",
      "p\n",
      "i\n",
      "t\n",
      "e\n",
      "r\n"
     ]
    }
   ],
   "source": [
    "for letter in \"hello ,jupiter\":\n",
    "               \n",
    "               print(letter)"
   ]
  },
  {
   "cell_type": "code",
   "execution_count": 1,
   "id": "7e476ebc",
   "metadata": {},
   "outputs": [
    {
     "name": "stdout",
     "output_type": "stream",
     "text": [
      "its true!\n"
     ]
    }
   ],
   "source": [
    "if True:\n",
    "    print('its true!')"
   ]
  },
  {
   "cell_type": "code",
   "execution_count": null,
   "id": "6457b76a",
   "metadata": {},
   "outputs": [],
   "source": []
  },
  {
   "cell_type": "code",
   "execution_count": 1,
   "id": "a4e67338",
   "metadata": {},
   "outputs": [
    {
     "name": "stdout",
     "output_type": "stream",
     "text": [
      "i didnt know much\n"
     ]
    }
   ],
   "source": [
    "loc = 'bank'\n",
    "if loc =='auto shop':\n",
    "    print(\"cars are cool\")\n",
    "else:\n",
    "    print (\"i didnt know much\")"
   ]
  },
  {
   "cell_type": "code",
   "execution_count": null,
   "id": "fb159ef3",
   "metadata": {},
   "outputs": [],
   "source": []
  }
 ],
 "metadata": {
  "kernelspec": {
   "display_name": "Python 3",
   "language": "python",
   "name": "python3"
  },
  "language_info": {
   "codemirror_mode": {
    "name": "ipython",
    "version": 3
   },
   "file_extension": ".py",
   "mimetype": "text/x-python",
   "name": "python",
   "nbconvert_exporter": "python",
   "pygments_lexer": "ipython3",
   "version": "3.8.8"
  }
 },
 "nbformat": 4,
 "nbformat_minor": 5
}
