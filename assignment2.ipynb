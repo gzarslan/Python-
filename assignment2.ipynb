{
 "cells": [
  {
   "cell_type": "code",
   "execution_count": 2,
   "id": "73108df1",
   "metadata": {},
   "outputs": [],
   "source": [
    "mylist = [2,2,3,4,5,6]"
   ]
  },
  {
   "cell_type": "code",
   "execution_count": 6,
   "id": "a4f45517",
   "metadata": {},
   "outputs": [
    {
     "name": "stdout",
     "output_type": "stream",
     "text": [
      "2\n",
      "2\n",
      "3\n",
      "4\n",
      "5\n",
      "6\n"
     ]
    }
   ],
   "source": [
    "for num in mylist:\n",
    " print(num)\n"
   ]
  },
  {
   "cell_type": "code",
   "execution_count": 8,
   "id": "b0855559",
   "metadata": {},
   "outputs": [
    {
     "name": "stdout",
     "output_type": "stream",
     "text": [
      "num is even number\n",
      "num is even number\n",
      "num is not even\n",
      "num is even number\n",
      "num is not even\n",
      "num is even number\n"
     ]
    }
   ],
   "source": [
    "for num in mylist:\n",
    "#check even num\n",
    " if num%2==0:\n",
    "        print ('num is even number')\n",
    " else:\n",
    "    print ('num is not even')"
   ]
  },
  {
   "cell_type": "code",
   "execution_count": 11,
   "id": "22932837",
   "metadata": {},
   "outputs": [
    {
     "name": "stdout",
     "output_type": "stream",
     "text": [
      "mylist\n",
      "mylist\n",
      "mylist\n"
     ]
    }
   ],
   "source": [
    "tup =(1,2,3)\n",
    "for item in tup:\n",
    " print(\"mylist\")"
   ]
  },
  {
   "cell_type": "code",
   "execution_count": null,
   "id": "f16e27d9",
   "metadata": {},
   "outputs": [],
   "source": [
    "x=0\n",
    "while x<5:\n",
    "    print(f'the current value of the c is {x}')\n",
    "    x+=1\n",
    "    else:\n",
    "        print(f'or not {x})\n",
    "               \n",
    "               "
   ]
  },
  {
   "cell_type": "code",
   "execution_count": 15,
   "id": "65ff53ef",
   "metadata": {},
   "outputs": [
    {
     "name": "stdout",
     "output_type": "stream",
     "text": [
      "0\n",
      "1\n",
      "2\n",
      "3\n",
      "4\n",
      "5\n",
      "6\n",
      "7\n",
      "8\n",
      "9\n"
     ]
    }
   ],
   "source": [
    "mylist =[1,2,3]\n",
    "for num in range(10):\n",
    "    print (num)"
   ]
  },
  {
   "cell_type": "code",
   "execution_count": 16,
   "id": "2eea7753",
   "metadata": {},
   "outputs": [
    {
     "data": {
      "text/plain": [
       "[0, 2, 4, 6, 8, 10]"
      ]
     },
     "execution_count": 16,
     "metadata": {},
     "output_type": "execute_result"
    }
   ],
   "source": [
    "list (range(0,11,2))"
   ]
  },
  {
   "cell_type": "code",
   "execution_count": 17,
   "id": "0b2e8268",
   "metadata": {},
   "outputs": [
    {
     "name": "stdout",
     "output_type": "stream",
     "text": [
      "(1, 5)\n",
      "(2, 6)\n",
      "(3, 3)\n"
     ]
    }
   ],
   "source": [
    "mylist2=[5,6,3]\n",
    "mylist1=[1,2,3]\n",
    "for num in zip (mylist1,mylist2):\n",
    "    print(num)"
   ]
  },
  {
   "cell_type": "code",
   "execution_count": 18,
   "id": "faa5f699",
   "metadata": {},
   "outputs": [],
   "source": [
    "#list comprathansion\n",
    "mylist=[letter for letter in 'mystring']"
   ]
  },
  {
   "cell_type": "code",
   "execution_count": 19,
   "id": "fc3ba8f9",
   "metadata": {},
   "outputs": [
    {
     "data": {
      "text/plain": [
       "['m', 'y', 's', 't', 'r', 'i', 'n', 'g']"
      ]
     },
     "execution_count": 19,
     "metadata": {},
     "output_type": "execute_result"
    }
   ],
   "source": [
    "mylist\n"
   ]
  },
  {
   "cell_type": "code",
   "execution_count": 20,
   "id": "0e44f35a",
   "metadata": {},
   "outputs": [],
   "source": [
    "#Use for, .split(), and if to create a Statement that will print out words that start with 's':\n",
    "st = 'Print only the words that start with s in this sentence'"
   ]
  },
  {
   "cell_type": "code",
   "execution_count": 21,
   "id": "5a650497",
   "metadata": {},
   "outputs": [
    {
     "data": {
      "text/plain": [
       "'Print only the words that start with s in this sentence'"
      ]
     },
     "execution_count": 21,
     "metadata": {},
     "output_type": "execute_result"
    }
   ],
   "source": [
    "st\n"
   ]
  },
  {
   "cell_type": "code",
   "execution_count": 28,
   "id": "b3147a5d",
   "metadata": {},
   "outputs": [
    {
     "name": "stdout",
     "output_type": "stream",
     "text": [
      "start\n",
      "s\n",
      "sentence\n"
     ]
    }
   ],
   "source": [
    "for word in  st.split():\n",
    "    if word[0] =='s':\n",
    "     print(word)"
   ]
  },
  {
   "cell_type": "code",
   "execution_count": 33,
   "id": "7cedc959",
   "metadata": {},
   "outputs": [
    {
     "name": "stdout",
     "output_type": "stream",
     "text": [
      "0\n",
      "1\n",
      "2\n",
      "3\n",
      "4\n",
      "5\n",
      "6\n",
      "7\n",
      "8\n",
      "9\n"
     ]
    }
   ],
   "source": [
    "#Use range() to print all the even numbers from 0 to 10.\n",
    "for num in range(10):\n",
    "     print(num)\n"
   ]
  },
  {
   "cell_type": "code",
   "execution_count": 34,
   "id": "7b4f68c9",
   "metadata": {},
   "outputs": [
    {
     "name": "stdout",
     "output_type": "stream",
     "text": [
      "0\n",
      "2\n",
      "4\n",
      "6\n",
      "8\n"
     ]
    }
   ],
   "source": [
    "for num in range(0,10,2):\n",
    "     print(num)"
   ]
  },
  {
   "cell_type": "code",
   "execution_count": 38,
   "id": "6be7ebfb",
   "metadata": {},
   "outputs": [
    {
     "name": "stdout",
     "output_type": "stream",
     "text": [
      "0\n",
      "it is not a even number\n",
      "2\n",
      "it is not a even number\n",
      "4\n",
      "it is not a even number\n",
      "6\n",
      "it is not a even number\n",
      "8\n",
      "it is not a even number\n"
     ]
    }
   ],
   "source": [
    "for num in range(10):\n",
    "     if num%2==0:\n",
    "        print(num)\n",
    "        \n",
    "     else: \n",
    "       print('it is not a even number')"
   ]
  },
  {
   "cell_type": "code",
   "execution_count": 44,
   "id": "d240b7fc",
   "metadata": {},
   "outputs": [],
   "source": [
    "#Use a List Comprehension to create a list of all numbers between 1 and 50 that are divisible by 3.\n",
    "\n",
    "#list comprathansion\n",
    "mylist=[num for num  in range(1,50,3)]\n"
   ]
  },
  {
   "cell_type": "code",
   "execution_count": 45,
   "id": "6fca41d7",
   "metadata": {},
   "outputs": [
    {
     "data": {
      "text/plain": [
       "[1, 4, 7, 10, 13, 16, 19, 22, 25, 28, 31, 34, 37, 40, 43, 46, 49]"
      ]
     },
     "execution_count": 45,
     "metadata": {},
     "output_type": "execute_result"
    }
   ],
   "source": [
    "mylist\n"
   ]
  },
  {
   "cell_type": "code",
   "execution_count": 46,
   "id": "16e3d433",
   "metadata": {},
   "outputs": [],
   "source": [
    "#Go through the string below and if the length of a word is even print \"even!\"\n",
    "st = 'Print every word in this sentence that has an even number of letters'\n",
    "\n",
    "\n"
   ]
  },
  {
   "cell_type": "code",
   "execution_count": 47,
   "id": "7910d236",
   "metadata": {},
   "outputs": [
    {
     "data": {
      "text/plain": [
       "'Print every word in this sentence that has an even number of letters'"
      ]
     },
     "execution_count": 47,
     "metadata": {},
     "output_type": "execute_result"
    }
   ],
   "source": [
    "st\n"
   ]
  },
  {
   "cell_type": "code",
   "execution_count": 64,
   "id": "b2e341dc",
   "metadata": {},
   "outputs": [
    {
     "name": "stdout",
     "output_type": "stream",
     "text": [
      "68 is even\n"
     ]
    }
   ],
   "source": [
    "\n",
    "\n",
    "   if len(st)%2==0:\n",
    "     print(f'{len(st)} is even')\n",
    "        \n",
    "    \n"
   ]
  },
  {
   "cell_type": "code",
   "execution_count": 70,
   "id": "3d8c1646",
   "metadata": {},
   "outputs": [
    {
     "name": "stdout",
     "output_type": "stream",
     "text": [
      "frixx\n",
      "frixx\n",
      "frixx\n",
      "frixx\n",
      "frixx\n",
      "frixx\n",
      "frixx\n",
      "frixx\n",
      "frixx\n",
      "frixx\n",
      "frixx\n",
      "frixx\n",
      "frixx\n",
      "frixx\n",
      "frixx\n",
      "frixx\n",
      "frixx\n",
      "frixx\n",
      "frixx\n",
      "frixx\n",
      "frixx\n",
      "frixx\n",
      "frixx\n",
      "frixx\n",
      "frixx\n",
      "frixx\n",
      "frixx\n",
      "frixx\n",
      "frixx\n",
      "frixx\n",
      "frixx\n",
      "frixx\n",
      "frixx\n",
      "frixx\n",
      "frixx\n",
      "frixx\n",
      "frixx\n",
      "frixx\n",
      "frixx\n",
      "frixx\n",
      "frixx\n",
      "frixx\n",
      "frixx\n",
      "frixx\n",
      "frixx\n",
      "frixx\n",
      "frixx\n",
      "frixx\n",
      "frixx\n",
      "frixx\n",
      "frixx\n",
      "frixx\n",
      "frixx\n",
      "frixx\n",
      "frixx\n",
      "frixx\n",
      "frixx\n",
      "frixx\n",
      "frixx\n",
      "frixx\n",
      "frixx\n",
      "frixx\n",
      "frixx\n",
      "frixx\n",
      "frixx\n",
      "frixx\n",
      "frixx\n",
      "frixx\n",
      "frixx\n",
      "frixx\n",
      "frixx\n",
      "frixx\n",
      "frixx\n",
      "frixx\n",
      "frixx\n",
      "frixx\n",
      "frixx\n",
      "frixx\n",
      "frixx\n",
      "frixx\n",
      "frixx\n",
      "frixx\n",
      "frixx\n",
      "frixx\n",
      "frixx\n",
      "frixx\n",
      "frixx\n",
      "frixx\n",
      "frixx\n",
      "frixx\n",
      "frixx\n",
      "frixx\n",
      "frixx\n",
      "frixx\n",
      "frixx\n",
      "frixx\n",
      "frixx\n",
      "frixx\n",
      "frixx\n"
     ]
    }
   ],
   "source": [
    "for num in range(1,101):\n",
    " print('frixx')"
   ]
  },
  {
   "cell_type": "code",
   "execution_count": 71,
   "id": "dcbde2c2",
   "metadata": {},
   "outputs": [],
   "source": [
    "st = 'Create a list of the first letters of every word in this string'"
   ]
  },
  {
   "cell_type": "code",
   "execution_count": 72,
   "id": "905f7a3e",
   "metadata": {},
   "outputs": [
    {
     "data": {
      "text/plain": [
       "'Create a list of the first letters of every word in this string'"
      ]
     },
     "execution_count": 72,
     "metadata": {},
     "output_type": "execute_result"
    }
   ],
   "source": [
    "st"
   ]
  },
  {
   "cell_type": "code",
   "execution_count": 76,
   "id": "20449fef",
   "metadata": {},
   "outputs": [],
   "source": []
  },
  {
   "cell_type": "markdown",
   "id": "3fab3002",
   "metadata": {},
   "source": [
    "num"
   ]
  },
  {
   "cell_type": "code",
   "execution_count": 98,
   "id": "7dee2e9c",
   "metadata": {},
   "outputs": [
    {
     "data": {
      "text/plain": [
       "['C', 'a', 'l', 'o', 't', 'f', 'l', 'o', 'e', 'w', 'i', 't', 's']"
      ]
     },
     "execution_count": 98,
     "metadata": {},
     "output_type": "execute_result"
    }
   ],
   "source": [
    "\n",
    "[num[0] for num in st.split()]\n",
    " "
   ]
  },
  {
   "cell_type": "code",
   "execution_count": 86,
   "id": "339d83f2",
   "metadata": {},
   "outputs": [
    {
     "data": {
      "text/plain": [
       "['C', 'a', 'l', 'o', 't', 'f', 'l', 'o', 'e', 'w', 'i', 't', 's']"
      ]
     },
     "execution_count": 86,
     "metadata": {},
     "output_type": "execute_result"
    }
   ],
   "source": [
    "[w[0] for w in st.split()] "
   ]
  },
  {
   "cell_type": "code",
   "execution_count": 93,
   "id": "f3f18119",
   "metadata": {},
   "outputs": [
    {
     "data": {
      "text/plain": [
       "'string'"
      ]
     },
     "execution_count": 93,
     "metadata": {},
     "output_type": "execute_result"
    }
   ],
   "source": [
    "num"
   ]
  },
  {
   "cell_type": "code",
   "execution_count": 95,
   "id": "461097e7",
   "metadata": {},
   "outputs": [
    {
     "data": {
      "text/plain": [
       "['s', 't', 'r', 'i', 'n', 'g']"
      ]
     },
     "execution_count": 95,
     "metadata": {},
     "output_type": "execute_result"
    }
   ],
   "source": [
    "list(num)"
   ]
  },
  {
   "cell_type": "code",
   "execution_count": 99,
   "id": "72e61856",
   "metadata": {},
   "outputs": [],
   "source": [
    "mylist =[1,2,3]"
   ]
  },
  {
   "cell_type": "code",
   "execution_count": 100,
   "id": "255a5a06",
   "metadata": {},
   "outputs": [
    {
     "data": {
      "text/plain": [
       "[1, 2, 3]"
      ]
     },
     "execution_count": 100,
     "metadata": {},
     "output_type": "execute_result"
    }
   ],
   "source": [
    "mylist\n"
   ]
  },
  {
   "cell_type": "code",
   "execution_count": 101,
   "id": "d1cb7c25",
   "metadata": {},
   "outputs": [
    {
     "data": {
      "text/plain": [
       "3"
      ]
     },
     "execution_count": 101,
     "metadata": {},
     "output_type": "execute_result"
    }
   ],
   "source": [
    "mylist.pop()"
   ]
  },
  {
   "cell_type": "code",
   "execution_count": 102,
   "id": "21a07646",
   "metadata": {},
   "outputs": [
    {
     "name": "stdout",
     "output_type": "stream",
     "text": [
      "Help on built-in function insert:\n",
      "\n",
      "insert(index, object, /) method of builtins.list instance\n",
      "    Insert object before index.\n",
      "\n"
     ]
    }
   ],
   "source": [
    "help(mylist.insert)"
   ]
  },
  {
   "cell_type": "code",
   "execution_count": 106,
   "id": "db7c5d2b",
   "metadata": {},
   "outputs": [],
   "source": [
    "def add_func(num1,num2):\n",
    "    return num1+num2"
   ]
  },
  {
   "cell_type": "code",
   "execution_count": 109,
   "id": "ba25c886",
   "metadata": {},
   "outputs": [],
   "source": [
    "def say_hello():\n",
    "    print('hrllo')"
   ]
  },
  {
   "cell_type": "code",
   "execution_count": 1,
   "id": "9c1d6398",
   "metadata": {},
   "outputs": [],
   "source": [
    "stock_prices = [('apple',200),('Good',400)]"
   ]
  },
  {
   "cell_type": "code",
   "execution_count": 3,
   "id": "338beb19",
   "metadata": {},
   "outputs": [
    {
     "name": "stdout",
     "output_type": "stream",
     "text": [
      "('apple', 200)\n",
      "('Good', 400)\n"
     ]
    }
   ],
   "source": [
    "for item in stock_prices:\n",
    "    print(item)"
   ]
  },
  {
   "cell_type": "code",
   "execution_count": 5,
   "id": "cdddc49d",
   "metadata": {},
   "outputs": [
    {
     "name": "stdout",
     "output_type": "stream",
     "text": [
      "apple 200\n",
      "Good 400\n"
     ]
    }
   ],
   "source": [
    "for a,b in stock_prices:\n",
    " print(a,b)"
   ]
  },
  {
   "cell_type": "code",
   "execution_count": 6,
   "id": "83930d91",
   "metadata": {},
   "outputs": [],
   "source": [
    "example =[1,2,3,4,5,6,7]"
   ]
  },
  {
   "cell_type": "code",
   "execution_count": 7,
   "id": "e53fd710",
   "metadata": {},
   "outputs": [],
   "source": [
    "from random import shuffle"
   ]
  },
  {
   "cell_type": "code",
   "execution_count": 8,
   "id": "fbf1d1aa",
   "metadata": {},
   "outputs": [
    {
     "data": {
      "text/plain": [
       "[1, 2, 3, 4, 5, 6, 7]"
      ]
     },
     "execution_count": 8,
     "metadata": {},
     "output_type": "execute_result"
    }
   ],
   "source": [
    "example"
   ]
  },
  {
   "cell_type": "code",
   "execution_count": 9,
   "id": "228523be",
   "metadata": {},
   "outputs": [],
   "source": [
    "result = shuffle(example)"
   ]
  },
  {
   "cell_type": "code",
   "execution_count": 12,
   "id": "72793803",
   "metadata": {},
   "outputs": [],
   "source": [
    "def shuffle_list (mylist):\n",
    "     shuffle(mylist)\n",
    "     return mylist"
   ]
  },
  {
   "cell_type": "code",
   "execution_count": 13,
   "id": "5c5c14c0",
   "metadata": {},
   "outputs": [],
   "source": [
    "result = shuffle(example)"
   ]
  },
  {
   "cell_type": "code",
   "execution_count": 14,
   "id": "a38fb61b",
   "metadata": {},
   "outputs": [],
   "source": [
    "result = shuffle_list(example)"
   ]
  },
  {
   "cell_type": "code",
   "execution_count": 15,
   "id": "97317c64",
   "metadata": {},
   "outputs": [
    {
     "data": {
      "text/plain": [
       "[6, 7, 1, 2, 4, 5, 3]"
      ]
     },
     "execution_count": 15,
     "metadata": {},
     "output_type": "execute_result"
    }
   ],
   "source": [
    "result"
   ]
  },
  {
   "cell_type": "code",
   "execution_count": null,
   "id": "29d7cee0",
   "metadata": {},
   "outputs": [],
   "source": [
    "#initial list"
   ]
  }
 ],
 "metadata": {
  "kernelspec": {
   "display_name": "Python 3",
   "language": "python",
   "name": "python3"
  },
  "language_info": {
   "codemirror_mode": {
    "name": "ipython",
    "version": 3
   },
   "file_extension": ".py",
   "mimetype": "text/x-python",
   "name": "python",
   "nbconvert_exporter": "python",
   "pygments_lexer": "ipython3",
   "version": "3.8.8"
  }
 },
 "nbformat": 4,
 "nbformat_minor": 5
}
