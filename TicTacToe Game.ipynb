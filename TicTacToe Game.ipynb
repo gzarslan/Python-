{
 "cells": [
  {
   "cell_type": "code",
   "execution_count": 78,
   "id": "d6466804",
   "metadata": {},
   "outputs": [
    {
     "name": "stdout",
     "output_type": "stream",
     "text": [
      "\n",
      " _____  _____  _____  \n",
      "|  X   | O    |X    | \n",
      "|      |      |     | \n",
      " _____  _____  _____  \n",
      "|  O   | X    |O    | \n",
      "|      |      |     | \n",
      " _____  _____  _____  \n",
      "|  X   | O    |X    | \n",
      "|      |      |     | \n",
      " _____  _____  _____ \n"
     ]
    }
   ],
   "source": [
    "#milestone 1\n",
    "\n",
    "'''Your assignment: Create a Tic Tac Toe game. You are free to use any IDE you like.\n",
    "\n",
    "Here are the requirements:\n",
    "\n",
    "    2 players should be able to play the game (both sitting at the same computer)\n",
    "    The board should be printed out every time a player makes a move\n",
    "    You should be able to accept input of the player position and then place a symbol on the board\n",
    "\n",
    "\n",
    "'''\n",
    "\n",
    "\n",
    "\n",
    "from IPython.display import clear_output\n",
    "\n",
    "def display_board(board):\n",
    "        a=('\\n _____  _____  _____ ')\n",
    "        b= ('\\n|  '+ board[7]+ '   | '+board[8]+'    |'+board[9]+ '    |')\n",
    "        c= ('\\n|  '+ board[4]+ '   | '+board[5]+'    |'+board[6]+ '    |')\n",
    "        d= ('\\n|  '+ board[1]+ '   | '+board[2]+'    |'+board[3]+ '    |')\n",
    "        \n",
    "        e= ('\\n|      |      |     |')\n",
    "      \n",
    "      \n",
    "      \n",
    "        print(a,b,e,a,c,e,a,d,e,a)\n",
    "    \n",
    "\n",
    "\n",
    "test_board = ['#','X','O','X','O','X','O','X','O','X']\n",
    "display_board(test_board)\n",
    "\n",
    "\n"
   ]
  },
  {
   "cell_type": "code",
   "execution_count": 79,
   "id": "7b24d728",
   "metadata": {},
   "outputs": [],
   "source": [
    "def player_input():\n",
    "    selectVal = ' '\n",
    "  # if (selectVal == 'X' or selectVal == 'O'):\n",
    "    while not (selectVal == 'X' or selectVal == 'O'):\n",
    "        selectVal = input('first player , Do you want to be X or O? ').upper()\n",
    "\n",
    "    if selectVal == 'X':\n",
    "        return ('X', 'O')\n",
    "    else:\n",
    "        return ('O', 'X')\n",
    "    \n",
    "    "
   ]
  },
  {
   "cell_type": "code",
   "execution_count": 80,
   "id": "7d796af0",
   "metadata": {},
   "outputs": [
    {
     "name": "stdout",
     "output_type": "stream",
     "text": [
      "first player , Do you want to be X or O? \n",
      "first player , Do you want to be X or O? x\n"
     ]
    },
    {
     "data": {
      "text/plain": [
       "('X', 'O')"
      ]
     },
     "execution_count": 80,
     "metadata": {},
     "output_type": "execute_result"
    }
   ],
   "source": [
    "player_input()"
   ]
  },
  {
   "cell_type": "code",
   "execution_count": 81,
   "id": "00c5fea2",
   "metadata": {},
   "outputs": [],
   "source": [
    "def place_marker(board, selectVal, position):\n",
    "    position=0\n",
    "    selectVal='$'\n",
    "    while position not in range(1,10):\n",
    "        board[position] = selectVal\n",
    "\n"
   ]
  },
  {
   "cell_type": "code",
   "execution_count": 85,
   "id": "14a0f397",
   "metadata": {},
   "outputs": [
    {
     "name": "stdout",
     "output_type": "stream",
     "text": [
      "\n",
      " _____  _____  _____  \n",
      "|  X   | O    |X    | \n",
      "|      |      |     | \n",
      " _____  _____  _____  \n",
      "|  O   | X    |O    | \n",
      "|      |      |     | \n",
      " _____  _____  _____  \n",
      "|  X   | O    |X    | \n",
      "|      |      |     | \n",
      " _____  _____  _____ \n"
     ]
    }
   ],
   "source": [
    "place_marker(test_board,'$',8)\n",
    "display_board(test_board)\n",
    "\n"
   ]
  },
  {
   "cell_type": "code",
   "execution_count": 83,
   "id": "d8520e36",
   "metadata": {},
   "outputs": [],
   "source": [
    "def win_check(board,mark):\n",
    "    return ((board[7] == mark and board[8] == mark and board[9] == mark) or # across till  the top\n",
    "    (board[4] == mark and board[5] == mark and board[6] == mark) or # across  till the middle\n",
    "    (board[1] == mark and board[2] == mark and board[3] == mark) or # across till the bottom\n",
    "    (board[7] == mark and board[4] == mark and board[1] == mark) or # down to  the middle\n",
    "    (board[8] == mark and board[5] == mark and board[2] == mark) or # down to the middle\n",
    "    (board[9] == mark and board[6] == mark and board[3] == mark) or # down to the right side\n",
    "    (board[7] == mark and board[5] == mark and board[3] == mark) or # diagonal\n",
    "    (board[9] == mark and board[5] == mark and board[1] == mark)) # diagonal"
   ]
  },
  {
   "cell_type": "code",
   "execution_count": 57,
   "id": "9f6b3da3",
   "metadata": {},
   "outputs": [
    {
     "data": {
      "text/plain": [
       "True"
      ]
     },
     "execution_count": 57,
     "metadata": {},
     "output_type": "execute_result"
    }
   ],
   "source": [
    "win_check(test_board,'X')"
   ]
  },
  {
   "cell_type": "code",
   "execution_count": 111,
   "id": "930b9022",
   "metadata": {},
   "outputs": [],
   "source": [
    "import random\n",
    "\n",
    "def choose_first():\n",
    "    \n",
    "     if random.randrange(1, 9) ==0:\n",
    "        return player1\n",
    "     else:\n",
    "             return player2"
   ]
  },
  {
   "cell_type": "code",
   "execution_count": 112,
   "id": "3d7c8dc5",
   "metadata": {},
   "outputs": [],
   "source": [
    "\n",
    "\n",
    "def space_check(board, C):\n",
    "    \n",
    "     while position not in range(1,10):\n",
    "            return board[position] == ' '"
   ]
  },
  {
   "cell_type": "code",
   "execution_count": 113,
   "id": "349524fe",
   "metadata": {},
   "outputs": [],
   "source": [
    "def full_board_check(board):\n",
    "    for position  in range(1,10):\n",
    "        if space_check(board, position):\n",
    "            return False\n",
    "    return True"
   ]
  },
  {
   "cell_type": "code",
   "execution_count": 114,
   "id": "83ef9f0e",
   "metadata": {},
   "outputs": [],
   "source": [
    "def player_choice(board):\n",
    "    position = 0\n",
    "    \n",
    "    while position not in range(1,10):\n",
    "        position = int(input('Choose your position (1-9) '))\n",
    "        \n",
    "    return position\n",
    "\n"
   ]
  },
  {
   "cell_type": "code",
   "execution_count": null,
   "id": "b6415883",
   "metadata": {},
   "outputs": [
    {
     "name": "stdout",
     "output_type": "stream",
     "text": [
      "Welcome to Tic Tac Toe!\n"
     ]
    }
   ],
   "source": [
    "\n",
    "print('Welcome to Tic Tac Toe!')\n",
    "\n",
    "while True:\n",
    "     \n",
    "    # Set the game up here\n",
    "    #pass\n",
    "\n",
    "    #while game_on:\n",
    "        #Player 1 Turn\n",
    "        \n",
    "        \n",
    "        # Player2's turn.\n",
    "            \n",
    "            #pass\n",
    "\n",
    "    #if not replay():\n",
    "        #break\n",
    "     # Reset the board\n",
    "    theBoard = [' '] * 10\n",
    "    player1_marker, player2_marker = player_input()\n",
    "    turn = choose_first()\n",
    "    print(turn + ' will go first.')\n",
    "    \n",
    "    while game_on:\n",
    "        if turn == 'Player1':\n",
    "             \n",
    "            display_board(theBoard)\n",
    "            position = player_choice(theBoard)\n",
    "            place_marker(theBoard, player1_marker, position)\n",
    "\n",
    "            if win_check(theBoard, player1_marker):\n",
    "                display_board(theBoard)\n",
    "                print('Congratulations you won!')\n",
    "                game_on = False\n",
    "            else:\n",
    "                if full_board_check(theBoard):\n",
    "                    display_board(theBoard)\n",
    "                    print('The game is a draw!')\n",
    "                    break\n",
    "                else:\n",
    "                    turn = 'Player2'\n",
    "\n",
    "        else:\n",
    "            # Player2's turn.\n",
    "            \n",
    "            display_board(theBoard)\n",
    "            position = player_choice(theBoard)\n",
    "            place_marker(theBoard, player2_marker, position)\n",
    "\n",
    "            if win_check(theBoard, player2_marker):\n",
    "                display_board(theBoard)\n",
    "                print('Player 2  won!')\n",
    "                game_on = False\n",
    "            else:\n",
    "                if full_board_check(theBoard):\n",
    "                    display_board(theBoard)\n",
    "                    print('The game is a draw!')\n",
    "                    break\n",
    "                else:\n",
    "                    turn = 'Player1'\n",
    "   "
   ]
  },
  {
   "cell_type": "code",
   "execution_count": null,
   "id": "88e1f04d",
   "metadata": {},
   "outputs": [],
   "source": []
  }
 ],
 "metadata": {
  "kernelspec": {
   "display_name": "Python 3",
   "language": "python",
   "name": "python3"
  },
  "language_info": {
   "codemirror_mode": {
    "name": "ipython",
    "version": 3
   },
   "file_extension": ".py",
   "mimetype": "text/x-python",
   "name": "python",
   "nbconvert_exporter": "python",
   "pygments_lexer": "ipython3",
   "version": "3.8.8"
  }
 },
 "nbformat": 4,
 "nbformat_minor": 5
}
