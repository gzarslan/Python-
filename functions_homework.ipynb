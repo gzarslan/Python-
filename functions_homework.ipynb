{
 "cells": [
  {
   "cell_type": "code",
   "execution_count": 1,
   "id": "2600714f",
   "metadata": {},
   "outputs": [],
   "source": [
    "# Question 1 :Write a function that computes the volume of a sphere given its radius.\n",
    "#The volume of a sphere is given as$$\\frac{4}{3} πr^3$$\n",
    "\n",
    "def vol(rad):\n",
    "  return(4/3*3.14*rad*rad*rad)"
   ]
  },
  {
   "cell_type": "code",
   "execution_count": 2,
   "id": "30bc434a",
   "metadata": {},
   "outputs": [
    {
     "data": {
      "text/plain": [
       "33.49333333333333"
      ]
     },
     "execution_count": 2,
     "metadata": {},
     "output_type": "execute_result"
    }
   ],
   "source": [
    "vol(2)"
   ]
  },
  {
   "cell_type": "code",
   "execution_count": 15,
   "id": "a70cffbd",
   "metadata": {},
   "outputs": [],
   "source": [
    "#Question 2 :Write a function that checks whether a number is in a given range (inclusive of high and low)\n",
    "\n",
    "def ran_check(number,low,high):\n",
    "    if number in range(low,high):\n",
    "       print('{} is in the range '.format(number,low,high))\n",
    "    else:\n",
    "      print('the number is not in the range')\n",
    "    \n",
    "\n",
    "\n"
   ]
  },
  {
   "cell_type": "code",
   "execution_count": 16,
   "id": "37e54221",
   "metadata": {},
   "outputs": [
    {
     "name": "stdout",
     "output_type": "stream",
     "text": [
      "3 is in the range \n"
     ]
    }
   ],
   "source": [
    "ran_check(3,2,9)"
   ]
  },
  {
   "cell_type": "code",
   "execution_count": 17,
   "id": "99655996",
   "metadata": {},
   "outputs": [],
   "source": [
    " def ran_check(number,low,high):\n",
    "    if number >low and number<high:\n",
    "       print('{} is in the range '.format(number,low,high))\n",
    "    else:\n",
    "      print('the number is not in the range')\n",
    " "
   ]
  },
  {
   "cell_type": "code",
   "execution_count": 18,
   "id": "d6ed3143",
   "metadata": {},
   "outputs": [
    {
     "name": "stdout",
     "output_type": "stream",
     "text": [
      "3 is in the range \n"
     ]
    }
   ],
   "source": [
    "ran_check(3,2,9)\n"
   ]
  },
  {
   "cell_type": "code",
   "execution_count": 61,
   "id": "3a7a0320",
   "metadata": {},
   "outputs": [
    {
     "name": "stdout",
     "output_type": "stream",
     "text": [
      "Number of upper case characters:  4\n",
      "Number of lower case characters:  33\n"
     ]
    }
   ],
   "source": [
    "#Question 3: Write a Python function that accepts a string and calculates the number of upper case letters and lower case letters.\n",
    "\n",
    "def up_low(s):\n",
    "    d = { \"upperCase\":0,\"lowerCase\":0}\n",
    "    for word in s:\n",
    "       if word.isupper():\n",
    "          d[\"upperCase\"]+=1\n",
    "       elif word.islower():\n",
    "          d[\"lowerCase\"]+=1\n",
    "       else:\n",
    "              pass\n",
    "    print(\"Number of upper case characters: \",d[\"upperCase\"])\n",
    "    print(\"Number of lower case characters: \",d[\"lowerCase\"])\n",
    "\n",
    "up_low('Hello Mr. Rogers, how are you this fine Tuesday?')"
   ]
  },
  {
   "cell_type": "code",
   "execution_count": 71,
   "id": "601c965e",
   "metadata": {},
   "outputs": [],
   "source": [
    "#Question 4: Write a Python function that takes a list and returns a new list with unique elements of the first list.\n",
    "\n",
    "\n",
    "def unique_list(lst):\n",
    "    \n",
    "    output =[]\n",
    "    for x in lst:\n",
    "        if x not in output:\n",
    "            output.append(x)\n",
    "        else:\n",
    "             pass\n",
    "    print(\"Sample List :\",lst)\n",
    "    print(\"Unique List :\",output)\n",
    "    \n"
   ]
  },
  {
   "cell_type": "code",
   "execution_count": 72,
   "id": "096df275",
   "metadata": {},
   "outputs": [
    {
     "name": "stdout",
     "output_type": "stream",
     "text": [
      "Sample List : [1, 1, 1, 1, 2, 2, 3, 3, 3, 3, 4, 5]\n",
      "Unique List : [1, 2, 3, 4, 5]\n"
     ]
    }
   ],
   "source": [
    "unique_list([1,1,1,1,2,2,3,3,3,3,4,5])"
   ]
  },
  {
   "cell_type": "code",
   "execution_count": 110,
   "id": "e8f139a5",
   "metadata": {},
   "outputs": [
    {
     "ename": "IndentationError",
     "evalue": "unexpected indent (<ipython-input-110-d8d17d9275df>, line 10)",
     "output_type": "error",
     "traceback": [
      "\u001b[1;36m  File \u001b[1;32m\"<ipython-input-110-d8d17d9275df>\"\u001b[1;36m, line \u001b[1;32m10\u001b[0m\n\u001b[1;33m    print('it is a palindrome')\u001b[0m\n\u001b[1;37m    ^\u001b[0m\n\u001b[1;31mIndentationError\u001b[0m\u001b[1;31m:\u001b[0m unexpected indent\n"
     ]
    }
   ],
   "source": [
    "#Question 5:Write a Python function that checks whether a word or phrase is palindrome or not.\n",
    "\n",
    "s = 'helleh'\n",
    "reverse = reversed(s)\n",
    "\n",
    "def palindrome(s):\n",
    "    \n",
    "    if list(s) == list(reverse):\n",
    "         print('it is a palindrome')\n",
    "    else:\n",
    "          print('it is not a palindrome')        \n",
    "   #TO CHECK CASE SENSITIVITY \n",
    "   #return (string.upper() == string.upper()[::-1]) \n",
    "\n",
    "    \n",
    "    \n",
    "   \n"
   ]
  },
  {
   "cell_type": "code",
   "execution_count": 111,
   "id": "2408bc33",
   "metadata": {},
   "outputs": [
    {
     "name": "stdout",
     "output_type": "stream",
     "text": [
      "it is not a palindrome\n"
     ]
    }
   ],
   "source": [
    "palindrome(s)"
   ]
  },
  {
   "cell_type": "code",
   "execution_count": 118,
   "id": "09048894",
   "metadata": {},
   "outputs": [],
   "source": [
    "#Hard:\n",
    "#Wuestion 6 :Write a Python function to check whether a string is pangram or not. (Assume the string passed in does not have any punctuation)\n",
    "\n",
    "\n",
    "import string\n",
    "\n",
    "alphabet = \"abcdefghijklmnopqrstuvwxyz\"\n",
    "def ispangram(str1, alphabet=string.ascii_lowercase):\n",
    "    for letter in str1:\n",
    "        if letter not in str1.lower():\n",
    "            return False\n",
    "          \n",
    "        else:          \n",
    "            return True\n",
    "    \n"
   ]
  },
  {
   "cell_type": "code",
   "execution_count": 119,
   "id": "3addafc0",
   "metadata": {},
   "outputs": [
    {
     "data": {
      "text/plain": [
       "True"
      ]
     },
     "execution_count": 119,
     "metadata": {},
     "output_type": "execute_result"
    }
   ],
   "source": [
    "ispangram('the quick brown fox jumps over the lazy dog')"
   ]
  },
  {
   "cell_type": "code",
   "execution_count": 120,
   "id": "ac7e9d8b",
   "metadata": {},
   "outputs": [
    {
     "data": {
      "text/plain": [
       "'abcdefghijklmnopqrstuvwxyz'"
      ]
     },
     "execution_count": 120,
     "metadata": {},
     "output_type": "execute_result"
    }
   ],
   "source": [
    "string.ascii_lowercase"
   ]
  },
  {
   "cell_type": "code",
   "execution_count": null,
   "id": "10226833",
   "metadata": {},
   "outputs": [],
   "source": []
  }
 ],
 "metadata": {
  "kernelspec": {
   "display_name": "Python 3",
   "language": "python",
   "name": "python3"
  },
  "language_info": {
   "codemirror_mode": {
    "name": "ipython",
    "version": 3
   },
   "file_extension": ".py",
   "mimetype": "text/x-python",
   "name": "python",
   "nbconvert_exporter": "python",
   "pygments_lexer": "ipython3",
   "version": "3.8.8"
  }
 },
 "nbformat": 4,
 "nbformat_minor": 5
}
